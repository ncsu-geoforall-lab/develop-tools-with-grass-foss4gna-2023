{
 "cells": [
  {
   "cell_type": "markdown",
   "metadata": {},
   "source": [
    "# Multiple Output Formats"
   ]
  },
  {
   "cell_type": "markdown",
   "metadata": {},
   "source": [
    "## Interface Definition for Scripts\n",
    "\n",
    "Since GRASS tools are executable scripts (or generally programs), the interface of a GRASS tool is the command line interface of a Python script. A dedicated function _grass.script.parser_ takes care of processing the command line arguments based on the interface description specified in a Python comment with a key-value syntax defined by GRASS GIS.\n",
    "\n",
    "The following is an example of a script which takes two parameters: name of a vector map and name of a raster map:"
   ]
  },
  {
   "cell_type": "code",
   "execution_count": null,
   "metadata": {},
   "outputs": [],
   "source": [
    "%%writefile viewscape.py\n",
    "#!/usr/bin/env python\n",
    "\n",
    "# %module\n",
    "# % description: Compute viewshed and compute statistics about visible parts of sample layers\n",
    "# % keyword: raster\n",
    "# % keyword: statistics\n",
    "# % keyword: viewshed\n",
    "# %end\n",
    "# %option G_OPT_R_ELEV\n",
    "# % description: Name of input elevation raster map\n",
    "# %end\n",
    "# %option G_OPT_M_COORDS\n",
    "# %end\n",
    "# %option G_OPT_R_INPUTS\n",
    "# %end\n",
    "# %option G_OPT_F_OUTPUT\n",
    "# %end\n",
    "\n",
    "\n",
    "import atexit\n",
    "import subprocess\n",
    "import sys\n",
    "import csv\n",
    "import json\n",
    "import io\n",
    "\n",
    "import grass.script as gs\n",
    "\n",
    "\n",
    "def output_results(results, sample_rasters, file_name, file_format):\n",
    "    if file_format == \"json\":\n",
    "        with open(file_name, \"w\", encoding=\"utf-8\") as json_file:\n",
    "            json.dump(results, json_file, ensure_ascii=False, indent=4)\n",
    "    elif file_format == \"csv\":\n",
    "        with open(file_name, \"w\", newline=\"\", encoding=\"utf-8\") as csv_file:\n",
    "            header = [\"name\"]\n",
    "            header.extend(results[sample_rasters[0]].keys())\n",
    "            writer = csv.DictWriter(csv_file, fieldnames=header)\n",
    "            writer.writeheader()\n",
    "            for key, value in results.items():\n",
    "                row = {\"name\": key}\n",
    "                row.update(value)\n",
    "                writer.writerow(row)\n",
    "    else:\n",
    "        raise ValueError(f\"Unsupported or invalid format: {file_format}\")\n",
    "\n",
    "\n",
    "def clean(name):\n",
    "    gs.run_command(\"g.remove\", type=\"raster\", name=name, flags=\"f\", superquiet=True)\n",
    "\n",
    "\n",
    "def viewshed(\n",
    "    elevation,\n",
    "    coordinates,\n",
    "    sample_rasters,\n",
    "    output,\n",
    "    file_format,\n",
    "):\n",
    "    viewshed = gs.append_node_pid(\"tmp_viewshed\")\n",
    "    atexit.register(clean, viewshed)\n",
    "    gs.run_command(\n",
    "        \"r.viewshed\",\n",
    "        input=elevation,\n",
    "        output=viewshed,\n",
    "        coordinates=coordinates,\n",
    "        flags=\"cb\",\n",
    "    )\n",
    "    gs.run_command(\"r.null\", map=viewshed, setnull=0)\n",
    "    results = {}\n",
    "    for name in sample_rasters:\n",
    "        table_data = gs.read_command(\n",
    "            \"r.univar\",\n",
    "            map=name,\n",
    "            zones=viewshed,\n",
    "            quiet=True,\n",
    "            flags=\"t\",\n",
    "            separator=\"comma\",\n",
    "        )\n",
    "        # While we could use .strip().splitlines()[-1].split(\",\") here,\n",
    "        # using a proper CSV reader is more robust.\n",
    "        reader = csv.DictReader(io.StringIO(table_data))\n",
    "        for row in reader:\n",
    "            del row[\"zone\"]\n",
    "            del row[\"label\"]\n",
    "            del row[\"non_null_cells\"]\n",
    "            del row[\"null_cells\"]\n",
    "            results[name] = row\n",
    "    output_results(\n",
    "        results=results,\n",
    "        sample_rasters=sample_rasters,\n",
    "        file_name=output,\n",
    "        file_format=file_format,\n",
    "    )\n",
    "\n",
    "\n",
    "def main():\n",
    "    options, flags = gs.parser()\n",
    "    coordinates = options[\"coordinates\"].split(\",\")\n",
    "    sample_rasters = options[\"input\"].split(\",\")\n",
    "    viewshed(\n",
    "        elevation=options[\"elevation\"],\n",
    "        coordinates=(float(coordinates[0]), float(coordinates[1])),\n",
    "        sample_rasters=sample_rasters,\n",
    "        output=options[\"output\"],\n",
    "        file_format=\"json\",\n",
    "    )\n",
    "\n",
    "\n",
    "if __name__ == \"__main__\":\n",
    "    main()"
   ]
  },
  {
   "cell_type": "markdown",
   "metadata": {},
   "source": [
    "As before, we will make the script executable:"
   ]
  },
  {
   "cell_type": "code",
   "execution_count": null,
   "metadata": {},
   "outputs": [],
   "source": [
    "!chmod u+x viewscape.py"
   ]
  },
  {
   "cell_type": "code",
   "execution_count": null,
   "metadata": {},
   "outputs": [],
   "source": [
    "!grass ~/grassdata/nc_spm_08_grass7/foss4g --exec ./viewscape.py elevation=elevation coordinates=637_657,222_899 input=elevation,ndvi output=\"data.txt\" --o\n",
    "!cat data.txt"
   ]
  },
  {
   "cell_type": "markdown",
   "metadata": {},
   "source": [
    "## Task: Add Parameter for Output Format\n",
    "\n",
    "### Explore Interface of an Existing Tool"
   ]
  },
  {
   "cell_type": "code",
   "execution_count": null,
   "metadata": {},
   "outputs": [],
   "source": [
    "!grass --tmp-location XY --exec v.db.select --script"
   ]
  },
  {
   "cell_type": "markdown",
   "metadata": {},
   "source": [
    "## More Than on Input"
   ]
  },
  {
   "cell_type": "code",
   "execution_count": null,
   "metadata": {},
   "outputs": [],
   "source": [
    "!grass ~/grassdata/nc_spm_08_grass7/foss4g --exec i.vi red=lsat7_2002_30 nir=lsat7_2002_40 viname=ndvi output=ndvi"
   ]
  },
  {
   "cell_type": "markdown",
   "metadata": {},
   "source": [
    "## Task: Divide Parameters into Sections\n",
    "\n",
    "```python\n",
    "# % guisection: Output\n",
    "```"
   ]
  }
 ],
 "metadata": {
  "kernelspec": {
   "display_name": "Python 3",
   "language": "python",
   "name": "python3"
  },
  "language_info": {
   "codemirror_mode": {
    "name": "ipython",
    "version": 3
   },
   "file_extension": ".py",
   "mimetype": "text/x-python",
   "name": "python",
   "nbconvert_exporter": "python",
   "pygments_lexer": "ipython3",
   "version": "3.8.10"
  }
 },
 "nbformat": 4,
 "nbformat_minor": 4
}
