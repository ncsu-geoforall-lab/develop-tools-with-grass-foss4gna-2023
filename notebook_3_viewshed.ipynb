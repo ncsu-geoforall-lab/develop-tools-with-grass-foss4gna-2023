{
 "cells": [
  {
   "cell_type": "markdown",
   "metadata": {},
   "source": [
    "# GRASS Tool with Parameters"
   ]
  },
  {
   "cell_type": "markdown",
   "metadata": {},
   "source": [
    "## Interface Definition for Scripts\n",
    "\n",
    "Since GRASS tools are executable scripts (or generally programs), the interface of a GRASS tool is the command line interface of a Python script. A dedicated function _grass.script.parser_ takes care of processing the command line arguments based on the interface description specified in a Python comment with a key-value syntax defined by GRASS GIS.\n",
    "\n",
    "The following is an example of a script which takes two parameters: name of a vector map and name of a raster map:"
   ]
  },
  {
   "cell_type": "code",
   "execution_count": 62,
   "metadata": {},
   "outputs": [
    {
     "name": "stdout",
     "output_type": "stream",
     "text": [
      "Overwriting vector_to_raster.py\n"
     ]
    }
   ],
   "source": [
    "%%writefile viewshed.py\n",
    "#!/usr/bin/env python\n",
    "\n",
    "# %module\n",
    "# % description: Compute viewshed and compute statistics about visible parts of sample layers\n",
    "# % keyword: viewshed\n",
    "# % keyword: geometry\n",
    "# %end\n",
    "# %option G_OPT_R_ELEV\n",
    "# % description: Name of input elevation raster map\n",
    "# %end\n",
    "# %option G_OPT_M_COORDS\n",
    "# %end\n",
    "# %option G_OPT_R_INPUTS\n",
    "# %end\n",
    "# %option G_OPT_F_OUTPUT\n",
    "# %end\n",
    "\n",
    "import subprocess\n",
    "import sys\n",
    "import csv\n",
    "import io\n",
    "\n",
    "import grass.script as gs\n",
    "\n",
    "\n",
    "def viewshed(\n",
    "    elevation,\n",
    "    coords,\n",
    "    output,\n",
    "    sample_continuous,\n",
    "):\n",
    "    name = \"viewshed\"\n",
    "    gs.run_command(\n",
    "        \"r.viewshed\",\n",
    "        input=elevation,\n",
    "        output=name,\n",
    "        coordinates=coords,\n",
    "        flags=\"cb\",\n",
    "    )\n",
    "    gs.run_command(\"r.null\", map=name, setnull=0)\n",
    "    results = {}\n",
    "    results[\"x\"] = coords[0]\n",
    "    results[\"y\"] = coords[1]\n",
    "    for each in sample_continuous:\n",
    "        table_data = gs.read_command(\n",
    "            \"r.univar\",\n",
    "            map=each,\n",
    "            zones=name,\n",
    "            quiet=True,\n",
    "            flags=\"t\",\n",
    "            separator=\"comma\",\n",
    "        )\n",
    "        # While we could use .strip().splitlines()[-1].split(\",\") here,\n",
    "        # using a proper CSV reader is more robust.\n",
    "        reader = csv.DictReader(io.StringIO(table_data))\n",
    "        for row in reader:\n",
    "            for key, value in row.items():\n",
    "                new_key = f\"{each}_{key}\"\n",
    "                results[new_key] = value\n",
    "    print(results)\n",
    "\n",
    "\n",
    "def main():\n",
    "    options, flags = gs.parser()\n",
    "    coords = options[\"coordinates\"].split(\",\")\n",
    "    sample_continuous = options[\"input\"].split(\",\")\n",
    "    viewshed(\n",
    "        elevation=options[\"input\"],\n",
    "        coords=(float(coords[0]), float(coords[1])),\n",
    "        output=options[\"output\"],\n",
    "        sample_continuous=sample_continuous,\n",
    "    )\n",
    "\n",
    "\n",
    "if __name__ == \"__main__\":\n",
    "    main()"
   ]
  },
  {
   "cell_type": "markdown",
   "metadata": {},
   "source": [
    "As before, we will make the script executable:"
   ]
  },
  {
   "cell_type": "code",
   "execution_count": 16,
   "metadata": {},
   "outputs": [],
   "source": [
    "!chmod u+x vector_to_raster.py"
   ]
  },
  {
   "cell_type": "markdown",
   "metadata": {},
   "source": [
    "Running the script with `--help` gives its interface described for command line use:"
   ]
  },
  {
   "cell_type": "code",
   "execution_count": 63,
   "metadata": {},
   "outputs": [
    {
     "name": "stdout",
     "output_type": "stream",
     "text": [
      "Starting GRASS GIS...\n",
      "Cleaning up temporary files...\n",
      "Executing <./vector_to_raster.py elevation=elevation coordinates=637_657,222_899 output=data.txt input=elevation --o> ...\n",
      "Computing events...\n",
      "   0   3   6   9  12  15  18  21  24  27  30  33  36  39  42  45  48  51  54  57  60  63  66  69  72  75  78  81  84  87  90  93  96  99 100\n",
      "Computing visibility...\n",
      "   0   2   4   6   8  10  12  14  16  18  20  22  24  26  28  30  32  34  36  38  40  42  44  46  48  50  52  54  56  58  60  62  64  66  68  70  72  74  76  78  80  82  84  86  88  90  92  94  96  98 100\n",
      "Writing output raster map...\n",
      "   0   6  12  18  24  30  36  42  48  54  60  66  72  78  84  90  96 100\n",
      "   0   2   4   6   8  10  12  14  16  18  20  22  24  26  28  30  32  34  36  38  40  42  44  46  48  50  52  54  56  58  60  62  64  66  68  70  72  74  76  78  80  82  84  86  88  90  92  94  96  98 100\n",
      "{'elevation_zone': '1', 'elevation_label': '', 'elevation_non_null_cells': '121', 'elevation_null_cells': '0', 'elevation_min': '65.0054626464844', 'elevation_max': '152.262680053711', 'elevation_range': '87.2572174072266', 'elevation_mean': '115.819097786895', 'elevation_mean_of_abs': '115.819097786895', 'elevation_stddev': '20.486681456427', 'elevation_variance': '419.704117097109', 'elevation_coeff_var': '17.6885175656626', 'elevation_sum': '14014.1108322144', 'elevation_sum_abs': '14014.1108322144', 'x': 637657.0, 'y': 222899.0}\n",
      "Execution of <./vector_to_raster.py elevation=elevation coordinates=637_657,222_899 output=data.txt input=elevation --o> finished.\n",
      "Cleaning up temporary files...\n"
     ]
    }
   ],
   "source": [
    "!grass ~/grassdata/nc_basic_spm_grass7/foss4g --exec ./vector_to_raster.py elevation=elevation coordinates=637_657,222_899 output=\"data.txt\" input=elevation --o"
   ]
  },
  {
   "cell_type": "markdown",
   "metadata": {},
   "source": [
    "Running the script with `--html-description` gives the command line interface described in HTML which later becomes a part of the tool's HTML documentation:"
   ]
  },
  {
   "cell_type": "code",
   "execution_count": 51,
   "metadata": {},
   "outputs": [
    {
     "name": "stdout",
     "output_type": "stream",
     "text": [
      "Starting GRASS GIS...\n",
      "Cleaning up temporary files...\n",
      "Executing <r.univar map=elevation zones=viewshed -t separator=comma> ...\n",
      "   0   3   6   9  12  15  18  21  24  27  30  33  36  39  42  45  48  51  54  57  60  63  66  69  72  75  78  81  84  87  90  93  96  99 100\n",
      "zone,label,non_null_cells,null_cells,min,max,range,mean,mean_of_abs,stddev,variance,coeff_var,sum,sum_abs\n",
      "1,,121,0,65.0054626464844,152.262680053711,87.2572174072266,115.819097786895,115.819097786895,20.486681456427,419.704117097109,17.6885175656626,14014.1108322144,14014.1108322144\n",
      "Execution of <r.univar map=elevation zones=viewshed -t separator=comma> finished.\n",
      "Cleaning up temporary files...\n"
     ]
    }
   ],
   "source": [
    "!grass ~/grassdata/nc_basic_spm_grass7/foss4g --exec r.univar map=elevation zones=viewshed -t separator=comma"
   ]
  },
  {
   "cell_type": "markdown",
   "metadata": {},
   "source": [
    "## Task: Add JSON or CSV Output"
   ]
  },
  {
   "cell_type": "markdown",
   "metadata": {},
   "source": [
    "### JSON\n",
    "\n",
    "```\n",
    "json\n",
    "```"
   ]
  },
  {
   "cell_type": "markdown",
   "metadata": {},
   "source": [
    "### CSV\n",
    "\n",
    "```\n",
    "csv.DictWriter()\n",
    "```"
   ]
  },
  {
   "cell_type": "code",
   "execution_count": null,
   "metadata": {},
   "outputs": [],
   "source": [
    "grass --tmp-location XY --exec v.db.select --script"
   ]
  },
  {
   "cell_type": "code",
   "execution_count": null,
   "metadata": {},
   "outputs": [],
   "source": [
    "!grass ~/grassdata/nc_basic_spm_grass7/foss4g --exec r.univar map=elevation zones=viewshed -t separator=comma format=json"
   ]
  }
 ],
 "metadata": {
  "kernelspec": {
   "display_name": "Python 3",
   "language": "python",
   "name": "python3"
  },
  "language_info": {
   "codemirror_mode": {
    "name": "ipython",
    "version": 3
   },
   "file_extension": ".py",
   "mimetype": "text/x-python",
   "name": "python",
   "nbconvert_exporter": "python",
   "pygments_lexer": "ipython3",
   "version": "3.8.10"
  }
 },
 "nbformat": 4,
 "nbformat_minor": 4
}
