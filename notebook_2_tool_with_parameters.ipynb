{
 "cells": [
  {
   "cell_type": "markdown",
   "metadata": {},
   "source": [
    "# GRASS Tool with Parameters"
   ]
  },
  {
   "cell_type": "markdown",
   "metadata": {},
   "source": [
    "## Interface Definition for GRASS tools\n",
    "\n",
    "The following is an example of a script which takes three parameters: name of a raster map and name of a raster map."
   ]
  },
  {
   "cell_type": "code",
   "execution_count": null,
   "metadata": {},
   "outputs": [],
   "source": [
    "%%writefile viewscape.py\n",
    "#!/usr/bin/env python\n",
    "\n",
    "# %module\n",
    "# % description: Compute viewshed and compute statistics about visible parts of sample layers\n",
    "# % keyword: raster\n",
    "# % keyword: statistics\n",
    "# % keyword: viewshed\n",
    "# %end\n",
    "# %option G_OPT_R_INPUT\n",
    "# %end\n",
    "# %option\n",
    "# % key: x\n",
    "# % type: double\n",
    "# % required: yes\n",
    "# % description: Coordinate X\n",
    "# %end\n",
    "# %option\n",
    "# % key: y\n",
    "# % type: double\n",
    "# % required: yes\n",
    "# % description: Coordinate Y\n",
    "# %end\n",
    "\n",
    "\n",
    "import subprocess\n",
    "import sys\n",
    "\n",
    "import grass.script as gs\n",
    "\n",
    "\n",
    "def main():\n",
    "    gs.parser()\n",
    "\n",
    "\n",
    "if __name__ == \"__main__\":\n",
    "    main()"
   ]
  },
  {
   "cell_type": "markdown",
   "metadata": {},
   "source": [
    "As before, we will make the script executable:"
   ]
  },
  {
   "cell_type": "code",
   "execution_count": null,
   "metadata": {},
   "outputs": [],
   "source": [
    "!chmod u+x viewscape.py"
   ]
  },
  {
   "cell_type": "markdown",
   "metadata": {},
   "source": [
    "Running the script with `--help` gives its interface described for command line use:"
   ]
  },
  {
   "cell_type": "code",
   "execution_count": null,
   "metadata": {},
   "outputs": [],
   "source": [
    "!grass ~/grassdata/nc_basic_spm_grass7/foss4g --exec ./viewscape.py --help"
   ]
  },
  {
   "cell_type": "markdown",
   "metadata": {},
   "source": [
    "Running the script with `--html-description` gives the command line interface described in HTML which later becomes a part of the tool's HTML documentation:"
   ]
  },
  {
   "cell_type": "code",
   "execution_count": null,
   "metadata": {},
   "outputs": [],
   "source": [
    "!grass ~/grassdata/nc_basic_spm_grass7/foss4g --exec ./viewscape.py --html-description > test.html"
   ]
  },
  {
   "cell_type": "code",
   "execution_count": null,
   "metadata": {},
   "outputs": [],
   "source": [
    "from IPython.display import IFrame\n",
    "\n",
    "IFrame(\"test.html\", width=700, height=600)"
   ]
  },
  {
   "cell_type": "markdown",
   "metadata": {},
   "source": [
    "Open the generated HTML file called _test.html_ from the File Browser (on the left in JupyterLab)."
   ]
  },
  {
   "cell_type": "markdown",
   "metadata": {},
   "source": [
    "On desktop, a graphical user interface for the tool would be available, too, accessible, e.g., through `--ui`:\n",
    "\n",
    "```bash\n",
    "grass ~/grassdata/nc_basic_spm_grass7/foss4g --exec ./viewscape.py --ui\n",
    "```\n",
    "\n",
    "The GUI window may look like this:\n",
    "\n",
    "![GUI with three parameters](img/gui_example_simple.png)"
   ]
  },
  {
   "cell_type": "markdown",
   "metadata": {},
   "source": [
    "Running the script with `--interface-description` gives its interface described using XML which is useful for building other interfaces, e.g., GUI:"
   ]
  },
  {
   "cell_type": "code",
   "execution_count": null,
   "metadata": {},
   "outputs": [],
   "source": [
    "!grass ~/grassdata/nc_basic_spm_grass7/foss4g --exec ./viewscape.py --interface-description"
   ]
  },
  {
   "cell_type": "markdown",
   "metadata": {},
   "source": [
    "## Standard Parameters\n",
    "\n",
    "To make writing parameters simpler and the interfaces more unified, GRASS GIS predefines a series of standard options and flags (aka parameters). See [Parser standard options](https://grass.osgeo.org/grass83/manuals/parser_standard_options.html). For example, for vector input and raster output, you can use the following in Python:\n",
    "\n",
    "```python\n",
    "# %option G_OPT_V_INPUT\n",
    "# %end\n",
    "# %option G_OPT_R_OUTPUT\n",
    "# %end\n",
    "```\n",
    "\n",
    "If needed, you can override values which need to be different:\n",
    "\n",
    "```python\n",
    "# %option G_OPT_V_INPUT\n",
    "# % key: point_input\n",
    "# % label: Name of input vector map with points\n",
    "# % description: Points which used for sampling the raster input\n",
    "# %end\n",
    "# %option G_OPT_R_OUTPUT\n",
    "# % key: raster_input\n",
    "# % label: Name of sampled raster map\n",
    "# % description: Raster map which will be sampled by the points\n",
    "# %end\n",
    "```\n",
    "\n",
    "## Task: Use a Standard Parameter for Coordinates\n",
    "\n",
    "Use the Parser standard options list and find a standard option suitable for coordinates to replace our custom parameters `x` and `y`."
   ]
  }
 ],
 "metadata": {
  "kernelspec": {
   "display_name": "Python 3",
   "language": "python",
   "name": "python3"
  },
  "language_info": {
   "codemirror_mode": {
    "name": "ipython",
    "version": 3
   },
   "file_extension": ".py",
   "mimetype": "text/x-python",
   "name": "python",
   "nbconvert_exporter": "python",
   "pygments_lexer": "ipython3",
   "version": "3.8.10"
  }
 },
 "nbformat": 4,
 "nbformat_minor": 4
}
