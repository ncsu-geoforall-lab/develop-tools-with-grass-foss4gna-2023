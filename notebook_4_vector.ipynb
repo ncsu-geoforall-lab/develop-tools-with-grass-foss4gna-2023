{
 "cells": [
  {
   "cell_type": "markdown",
   "metadata": {},
   "source": [
    "# GRASS Tool with Parameters"
   ]
  },
  {
   "cell_type": "markdown",
   "metadata": {},
   "source": [
    "## Interface Definition for Scripts\n",
    "\n",
    "Since GRASS tools are executable scripts (or generally programs), the interface of a GRASS tool is the command line interface of a Python script. A dedicated function _grass.script.parser_ takes care of processing the command line arguments based on the interface description specified in a Python comment with a key-value syntax defined by GRASS GIS.\n",
    "\n",
    "The following is an example of a script which takes two parameters: name of a vector map and name of a raster map:"
   ]
  },
  {
   "cell_type": "code",
   "execution_count": 40,
   "metadata": {},
   "outputs": [
    {
     "name": "stdout",
     "output_type": "stream",
     "text": [
      "Overwriting vector_to_raster.py\n"
     ]
    }
   ],
   "source": [
    "%%writefile vector_to_raster.py\n",
    "#!/usr/bin/env python\n",
    "\n",
    "#%module\n",
    "#% description: Compute viewshed and compute statistics about visible parts of sample layers\n",
    "#% keyword: viewshed\n",
    "#% keyword: geometry\n",
    "#%end\n",
    "#%option G_OPT_R_ELEV\n",
    "#% description: Name of input elevation raster map\n",
    "#%end\n",
    "#%option G_OPT_V_INPUT\n",
    "# % key: points\n",
    "#%end\n",
    "#%option G_OPT_R_INPUTS\n",
    "#%end\n",
    "#%option G_OPT_F_OUTPUT\n",
    "# % guisection: Output\n",
    "#%end\n",
    "# %option\n",
    "# % key: format\n",
    "# % type: string\n",
    "# % required: yes\n",
    "# % options: json,csv\n",
    "# % label: Output format\n",
    "# % descriptions: json;JSON (JavaScript Object Notation);csv;CSV (Comma Separated Values)\n",
    "# % answer: json\n",
    "# % guisection: Output\n",
    "# %end\n",
    "\n",
    "\n",
    "import atexit\n",
    "import subprocess\n",
    "import multiprocessing\n",
    "import sys\n",
    "import csv\n",
    "import json\n",
    "import io\n",
    "import tempfile\n",
    "\n",
    "from pathlib import Path\n",
    "\n",
    "import grass.script as gs\n",
    "\n",
    "def output_results(results, sample_rasters):\n",
    "    with tempfile.TemporaryDirectory() as tmp_dir:\n",
    "        file_name = Path(tmp_dir) / \"data.txt\"\n",
    "        header = []\n",
    "        for name in sample_rasters:\n",
    "            for value in [\"mean\", \"stddev\", \"min\", \"max\"]:\n",
    "                header.append(f\"{name}_{value}\")\n",
    "        with open(file_name, 'w', newline='', encoding='utf-8') as csv_file:\n",
    "            writer = csv.DictWriter(csv_file, fieldnames=header)\n",
    "            writer.writeheader()\n",
    "            for point, result in results:\n",
    "                row = {}\n",
    "                row.update(point)\n",
    "                for raster_name, statistics in result:\n",
    "                    for key, value in statistics:\n",
    "                        new_key = f\"{raster_name}_{key}\"\n",
    "                        point[new_key] = value\n",
    "                writer.writerow(row)\n",
    "                print(row)\n",
    "        gs.run_command(\"v.in.ascii\", input=file_name, format=\"point\", separator=\"comma\", flags=\"cr\")\n",
    "\n",
    "def clean(name):\n",
    "    gs.run_command(\"g.remove\", type=\"raster\", name=name, flags=\"f\", superquiet=True)\n",
    "\n",
    "def multiple_viewsheds(\n",
    "    elevation,\n",
    "    points,\n",
    "    sample_rasters,\n",
    "    output,\n",
    "    file_format,\n",
    "):\n",
    "    point_data = gs.read_command(\"v.out.ascii\", input=points, type=\"point\", format=\"point\", separator=\"comma\", flags=\"cr\")\n",
    "    reader = csv.DictReader(io.StringIO(point_data))  \n",
    "    data = []\n",
    "    for point in reader:\n",
    "        \n",
    "        data.append( (elevation,\n",
    "            point,\n",
    "            sample_rasters,\n",
    "            output,\n",
    "            file_format))\n",
    "     \n",
    "    nprocs = 12\n",
    "    with multiprocessing.Pool(processes=nprocs) as pool:\n",
    "        #results = pool.map_async(parametrized_viewshed, data).get()\n",
    "        results = pool.starmap(parametrized_viewshed, data)\n",
    "    \n",
    "    \n",
    "    output_results(results, sample_rasters)\n",
    "\n",
    "        \n",
    "def parametrized_viewshed(elevation,\n",
    "        point,\n",
    "        sample_rasters,\n",
    "        output,\n",
    "        file_format):\n",
    "    coordinates = (point[\"east\"], point[\"north\"])\n",
    "    result = one_viewshed(\n",
    "        elevation=elevation,\n",
    "        coordinates=coordinates,\n",
    "        sample_rasters=sample_rasters,\n",
    "        output=output,\n",
    "        file_format=file_format,\n",
    "    )\n",
    "    return point, result\n",
    "    \n",
    "def one_viewshed(\n",
    "    elevation,\n",
    "    coordinates,\n",
    "    sample_rasters,\n",
    "    output,\n",
    "    file_format,\n",
    "):\n",
    "    viewshed = gs.append_node_pid(gs.legalize_vector_name(f\"tmp_viewshed_{coordinates}\"))\n",
    "    atexit.register(clean, viewshed)\n",
    "    gs.run_command(\n",
    "        \"r.viewshed\",\n",
    "        input=elevation,\n",
    "        output=viewshed,\n",
    "        coordinates=coordinates,\n",
    "        flags=\"cb\",\n",
    "        quiet=True,\n",
    "    )\n",
    "    gs.run_command(\"r.null\", map=viewshed, setnull=0)\n",
    "    results = {}\n",
    "    for name in sample_rasters:\n",
    "        table_data = gs.read_command(\n",
    "                \"r.univar\",\n",
    "                map=name,\n",
    "                zones=viewshed,\n",
    "                quiet=True,\n",
    "                flags=\"t\",\n",
    "                separator=\"comma\",\n",
    "        )\n",
    "        reader = csv.DictReader(io.StringIO(table_data))\n",
    "        for row in reader:\n",
    "            del row[\"zone\"]\n",
    "            del row[\"label\"]\n",
    "            del row[\"non_null_cells\"]\n",
    "            del row[\"null_cells\"]\n",
    "            results[name] = row\n",
    "    return results\n",
    "\n",
    "\n",
    "def main():\n",
    "    options, flags = gs.parser()\n",
    "    sample_rasters = options[\"input\"].split(\",\")\n",
    "    multiple_viewsheds(\n",
    "        elevation=options[\"elevation\"],\n",
    "        points = options[\"points\"],\n",
    "        sample_rasters=sample_rasters,\n",
    "        output=options[\"output\"],\n",
    "        file_format=options[\"format\"],\n",
    "    )\n",
    "\n",
    "\n",
    "if __name__ == \"__main__\":\n",
    "    main()"
   ]
  },
  {
   "cell_type": "markdown",
   "metadata": {},
   "source": [
    "As before, we will make the script executable:"
   ]
  },
  {
   "cell_type": "code",
   "execution_count": 41,
   "metadata": {},
   "outputs": [],
   "source": [
    "!chmod u+x vector_to_raster.py"
   ]
  },
  {
   "cell_type": "markdown",
   "metadata": {},
   "source": [
    "Running the script with `--help` gives its interface described for command line use:"
   ]
  },
  {
   "cell_type": "code",
   "execution_count": 42,
   "metadata": {},
   "outputs": [
    {
     "name": "stdout",
     "output_type": "stream",
     "text": [
      "Starting GRASS GIS...\n",
      "Cleaning up temporary files...\n",
      "Executing <./vector_to_raster.py elevation=elevation points=firestations input=elevation,ndvi output=data.txt format=csv --o> ...\n",
      "   0   2   4   6   8  10  12  14  16  18  20  22  24  26  28  30  32  34  36  38  40  42  44  46  48  50   0  52   2  54   4  56   6   8  58  10  60  12  62  14  64  16  18  66  20  68  22  24  26  70  28  72  30  74  32  34  76  36  78  38  80  40  82  42  84  44  86  46  48  50  88  52  90  54  92  56  94  58  96  60  98  62 100\n",
      "  64  66  68  70  72  74  76  78  80  82  84  86  88  90  92  94  96  98 100\n",
      "   0   2   4   6   8  10  12  14  16  18  20  22  24  26  28  30  32  34  36  38  40  42  44  46  48  50  52  54  56  58  60  62  64  66  68  70  72  74  76  78  80  82  84  86  88  90  92  94  96  98 100\n",
      "Traceback (most recent call last):\n",
      "  File \"./vector_to_raster.py\", line 161, in <module>\n",
      "    main()\n",
      "  File \"./vector_to_raster.py\", line 151, in main\n",
      "    multiple_viewsheds(\n",
      "  File \"./vector_to_raster.py\", line 92, in multiple_viewsheds\n",
      "    output_results(results, sample_rasters)\n",
      "  File \"./vector_to_raster.py\", line 57, in output_results\n",
      "    for raster_name, statistics in result:\n",
      "ValueError: too many values to unpack (expected 2)\n",
      "Execution of <./vector_to_raster.py elevation=elevation points=firestations input=elevation,ndvi output=data.txt format=csv --o> finished.\n",
      "Cleaning up temporary files...\n"
     ]
    }
   ],
   "source": [
    "!grass ~/grassdata/nc_spm_08_grass7/foss4g --exec ./vector_to_raster.py elevation=elevation points=firestations input=elevation,ndvi output=\"data.txt\" format=\"csv\" --o\n",
    "#!cat data.txt"
   ]
  },
  {
   "cell_type": "code",
   "execution_count": 3,
   "metadata": {},
   "outputs": [
    {
     "name": "stdout",
     "output_type": "stream",
     "text": [
      "Starting GRASS GIS...\n",
      "Cleaning up temporary files...\n",
      "Executing <i.vi red=lsat7_2002_30 nir=lsat7_2002_40 viname=ndvi output=ndvi> ...\n",
      "   0   3   6   9  12  15  18  21  24  27  30  33  36  39  42  45  48  51  54  57  60  63  66  69  72  75  78  81  84  87  90  93  96  99 100\n",
      "Execution of <i.vi red=lsat7_2002_30 nir=lsat7_2002_40 viname=ndvi output=ndvi> finished.\n",
      "Cleaning up temporary files...\n"
     ]
    }
   ],
   "source": [
    "!grass ~/grassdata/nc_spm_08_grass7/foss4g --exec i.vi red=lsat7_2002_30 nir=lsat7_2002_40 viname=ndvi output=ndvi"
   ]
  },
  {
   "cell_type": "markdown",
   "metadata": {},
   "source": [
    "Running the script with `--html-description` gives the command line interface described in HTML which later becomes a part of the tool's HTML documentation:"
   ]
  },
  {
   "cell_type": "code",
   "execution_count": 51,
   "metadata": {},
   "outputs": [
    {
     "name": "stdout",
     "output_type": "stream",
     "text": [
      "Starting GRASS GIS...\n",
      "Cleaning up temporary files...\n",
      "Executing <r.univar map=elevation zones=viewshed -t separator=comma> ...\n",
      "   0   3   6   9  12  15  18  21  24  27  30  33  36  39  42  45  48  51  54  57  60  63  66  69  72  75  78  81  84  87  90  93  96  99 100\n",
      "zone,label,non_null_cells,null_cells,min,max,range,mean,mean_of_abs,stddev,variance,coeff_var,sum,sum_abs\n",
      "1,,121,0,65.0054626464844,152.262680053711,87.2572174072266,115.819097786895,115.819097786895,20.486681456427,419.704117097109,17.6885175656626,14014.1108322144,14014.1108322144\n",
      "Execution of <r.univar map=elevation zones=viewshed -t separator=comma> finished.\n",
      "Cleaning up temporary files...\n"
     ]
    }
   ],
   "source": [
    "!grass ~/grassdata/nc_spm_grass7/foss4g --exec r.univar map=elevation zones=viewshed -t separator=comma"
   ]
  },
  {
   "cell_type": "code",
   "execution_count": 27,
   "metadata": {},
   "outputs": [
    {
     "name": "stdout",
     "output_type": "stream",
     "text": [
      "\u001b[1mreformatted vector_to_raster.py\u001b[0m\n",
      "\n",
      "\u001b[1mAll done! ✨ 🍰 ✨\u001b[0m\n",
      "\u001b[34m\u001b[1m1 file \u001b[0m\u001b[1mreformatted\u001b[0m.\n",
      "vector_to_raster.py:4:80: E501 line too long (93 > 79 characters)\n",
      "vector_to_raster.py:25:80: E501 line too long (89 > 79 characters)\n",
      "vector_to_raster.py:32:1: F401 'subprocess' imported but unused\n",
      "vector_to_raster.py:34:1: F401 'sys' imported but unused\n",
      "vector_to_raster.py:61:80: E501 line too long (84 > 79 characters)\n",
      "vector_to_raster.py:95:80: E501 line too long (81 > 79 characters)\n",
      "************* Module vector_to_raster\n",
      "vector_to_raster.py:1:0: C0114: Missing module docstring (missing-module-docstring)\n",
      "vector_to_raster.py:39:0: E0401: Unable to import 'grass.script' (import-error)\n",
      "vector_to_raster.py:42:0: C0116: Missing function or method docstring (missing-function-docstring)\n",
      "vector_to_raster.py:60:0: C0116: Missing function or method docstring (missing-function-docstring)\n",
      "vector_to_raster.py:64:0: C0116: Missing function or method docstring (missing-function-docstring)\n",
      "vector_to_raster.py:80:13: R1734: Consider using [] instead of list() (use-list-literal)\n",
      "vector_to_raster.py:95:0: C0116: Missing function or method docstring (missing-function-docstring)\n",
      "vector_to_raster.py:107:0: C0116: Missing function or method docstring (missing-function-docstring)\n",
      "vector_to_raster.py:111:4: W0613: Unused argument 'output' (unused-argument)\n",
      "vector_to_raster.py:112:4: W0613: Unused argument 'file_format' (unused-argument)\n",
      "vector_to_raster.py:145:0: C0116: Missing function or method docstring (missing-function-docstring)\n",
      "vector_to_raster.py:146:13: W0612: Unused variable 'flags' (unused-variable)\n",
      "vector_to_raster.py:32:0: W0611: Unused import subprocess (unused-import)\n",
      "vector_to_raster.py:34:0: W0611: Unused import sys (unused-import)\n",
      "\n",
      "------------------------------------------------------------------\n",
      "Your code has been rated at 7.14/10 (previous run: 6.03/10, +1.11)\n",
      "\n",
      "\u001b[0m"
     ]
    }
   ],
   "source": [
    "!black vector_to_raster.py\n",
    "!flake8 vector_to_raster.py\n",
    "!pylint vector_to_raster.py"
   ]
  },
  {
   "cell_type": "markdown",
   "metadata": {},
   "source": [
    "# Points\n"
   ]
  },
  {
   "cell_type": "code",
   "execution_count": 66,
   "metadata": {},
   "outputs": [
    {
     "name": "stdout",
     "output_type": "stream",
     "text": [
      "Starting GRASS GIS...\n",
      "Cleaning up temporary files...\n",
      "Executing <g.region raster=elevation> ...\n",
      "Execution of <g.region raster=elevation> finished.\n",
      "Cleaning up temporary files...\n",
      "Starting GRASS GIS...\n",
      "Cleaning up temporary files...\n",
      "Executing <v.out.ascii input=firestations type=point format=point separator=comma -c -r> ...\n",
      "east,north,cat\n",
      "630420.50034711,215694.02807559,9\n",
      "630879.21198056,224876.55413017,12\n",
      "635775.56533925,228121.69258378,19\n",
      "635940.26230542,225912.79645818,20\n",
      "637386.83129147,222569.15159736,21\n",
      "641437.43097947,221737.70843723,22\n",
      "644588.46729229,217450.61375119,23\n",
      "644598.62057612,221014.97865205,24\n",
      "642868.29195637,225195.28915104,25\n",
      "640173.91152612,226162.37987726,26\n",
      "640711.47282426,228461.46577181,27\n",
      "644601.8806259,226660.12097034,28\n",
      "633178.15477,221353.03723179,52\n",
      "641803.17360861,224986.14236578,56\n",
      "642559.95242121,215531.80353493,57\n",
      "Execution of <v.out.ascii input=firestations type=point format=point separator=comma -c -r> finished.\n",
      "Cleaning up temporary files...\n"
     ]
    }
   ],
   "source": [
    "!grass ~/grassdata/nc_spm_08_grass7/foss4g --exec g.region raster=elevation\n",
    "!grass ~/grassdata/nc_spm_08_grass7/foss4g --exec v.out.ascii input=firestations type=\"point\" format=\"point\" separator=\"comma\" -c -r"
   ]
  },
  {
   "cell_type": "code",
   "execution_count": null,
   "metadata": {},
   "outputs": [],
   "source": []
  }
 ],
 "metadata": {
  "kernelspec": {
   "display_name": "Python 3",
   "language": "python",
   "name": "python3"
  },
  "language_info": {
   "codemirror_mode": {
    "name": "ipython",
    "version": 3
   },
   "file_extension": ".py",
   "mimetype": "text/x-python",
   "name": "python",
   "nbconvert_exporter": "python",
   "pygments_lexer": "ipython3",
   "version": "3.8.10"
  }
 },
 "nbformat": 4,
 "nbformat_minor": 4
}
