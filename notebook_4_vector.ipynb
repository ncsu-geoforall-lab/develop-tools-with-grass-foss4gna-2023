{
 "cells": [
  {
   "cell_type": "markdown",
   "metadata": {},
   "source": [
    "# GRASS Tool with Parameters"
   ]
  },
  {
   "cell_type": "markdown",
   "metadata": {},
   "source": [
    "## Interface Definition for Scripts\n",
    "\n",
    "Since GRASS tools are executable scripts (or generally programs), the interface of a GRASS tool is the command line interface of a Python script. A dedicated function _grass.script.parser_ takes care of processing the command line arguments based on the interface description specified in a Python comment with a key-value syntax defined by GRASS GIS.\n",
    "\n",
    "The following is an example of a script which takes two parameters: name of a vector map and name of a raster map:"
   ]
  },
  {
   "cell_type": "code",
   "execution_count": 75,
   "metadata": {},
   "outputs": [
    {
     "name": "stdout",
     "output_type": "stream",
     "text": [
      "Overwriting vector_to_raster.py\n"
     ]
    }
   ],
   "source": [
    "%%writefile vector_to_raster.py\n",
    "#!/usr/bin/env python\n",
    "\n",
    "#%module\n",
    "#% description: Compute viewshed and compute statistics about visible parts of sample layers\n",
    "#% keyword: viewshed\n",
    "#% keyword: geometry\n",
    "#%end\n",
    "#%option G_OPT_R_ELEV\n",
    "#% description: Name of input elevation raster map\n",
    "#%end\n",
    "#%option G_OPT_V_INPUT\n",
    "# % key: points\n",
    "#%end\n",
    "#%option G_OPT_R_INPUTS\n",
    "#%end\n",
    "#%option G_OPT_F_OUTPUT\n",
    "# % guisection: Output\n",
    "#%end\n",
    "# %option\n",
    "# % key: format\n",
    "# % type: string\n",
    "# % required: yes\n",
    "# % options: json,csv\n",
    "# % label: Output format\n",
    "# % descriptions: json;JSON (JavaScript Object Notation);csv;CSV (Comma Separated Values)\n",
    "# % answer: json\n",
    "# % guisection: Output\n",
    "# %end\n",
    "\n",
    "\n",
    "import atexit\n",
    "import subprocess\n",
    "import sys\n",
    "import csv\n",
    "import json\n",
    "import io\n",
    "\n",
    "import grass.script as gs\n",
    "\n",
    "def output_results(results, sample_rasters, file_name, file_format):\n",
    "    if file_format == \"json\":\n",
    "        with open(file_name, 'w', encoding='utf-8') as json_file:\n",
    "            json.dump(results, json_file, ensure_ascii=False, indent=4)\n",
    "    elif file_format == \"csv\":\n",
    "        with open(file_name, 'w', newline='', encoding='utf-8') as csv_file:\n",
    "            header = [\"name\"]\n",
    "            header.extend(results[sample_rasters[0]].keys())\n",
    "            writer = csv.DictWriter(csv_file, fieldnames=header)\n",
    "            writer.writeheader()\n",
    "            for key, value in results.items():\n",
    "                row = {\"name\": key}\n",
    "                row.update(value)\n",
    "                writer.writerow(row)\n",
    "    else:\n",
    "        raise ValueError(f\"Unsupported or invalid format: {file_format}\")\n",
    "\n",
    "def clean(name):\n",
    "    gs.run_command(\"g.remove\", type=\"raster\", name=name, flags=\"f\", superquiet=True)\n",
    "\n",
    "def multiple_viewsheds(\n",
    "    elevation,\n",
    "    points,\n",
    "    sample_rasters,\n",
    "    output,\n",
    "    file_format,\n",
    "):\n",
    "    point_data = gs.read_command(\"v.out.ascii\", input=points, type=\"point\", format=\"point\", separator=\"comma\", flags=\"cr\")\n",
    "    reader = csv.DictReader(io.StringIO(point_data))\n",
    "    points = list(reader)\n",
    "    for point in points:\n",
    "        coordinates = (point[\"east\"], point[\"north\"])\n",
    "        one_viewshed(\n",
    "                elevation=elevation,\n",
    "            coordinates=coordinates,\n",
    "            sample_rasters=sample_rasters,\n",
    "            output=output,\n",
    "            file_format=file_format,\n",
    "        )\n",
    "\n",
    "    \n",
    "def one_viewshed(\n",
    "    elevation,\n",
    "    coordinates,\n",
    "    sample_rasters,\n",
    "    output,\n",
    "    file_format,\n",
    "):\n",
    "    viewshed = gs.append_node_pid(\"tmp_viewshed\")\n",
    "    atexit.register(clean, viewshed)\n",
    "    gs.run_command(\n",
    "        \"r.viewshed\",\n",
    "        input=elevation,\n",
    "        output=viewshed,\n",
    "        coordinates=coordinates,\n",
    "        flags=\"cb\",\n",
    "    )\n",
    "    gs.run_command(\"r.null\", map=viewshed, setnull=0)\n",
    "    results = {}\n",
    "    for name in sample_rasters:\n",
    "        table_data = gs.read_command(\n",
    "                \"r.univar\",\n",
    "                map=name,\n",
    "                zones=viewshed,\n",
    "                quiet=True,\n",
    "                flags=\"t\",\n",
    "                separator=\"comma\",\n",
    "        )\n",
    "        # While we could use .strip().splitlines()[-1].split(\",\") here,\n",
    "        # using a proper CSV reader is more robust.\n",
    "        reader = csv.DictReader(io.StringIO(table_data))\n",
    "        for row in reader:\n",
    "            del row[\"zone\"]\n",
    "            del row[\"label\"]\n",
    "            del row[\"non_null_cells\"]\n",
    "            del row[\"null_cells\"]\n",
    "            results[name] = row\n",
    "    output_results(results=results, sample_rasters=sample_rasters, file_name=output, file_format=file_format)\n",
    "\n",
    "\n",
    "def main():\n",
    "    options, flags = gs.parser()\n",
    "    sample_rasters = options[\"input\"].split(\",\")\n",
    "    multiple_viewsheds(\n",
    "        elevation=options[\"elevation\"],\n",
    "        points = options[\"points\"],\n",
    "        sample_rasters=sample_rasters,\n",
    "        output=options[\"output\"],\n",
    "        file_format=options[\"format\"],\n",
    "    )\n",
    "\n",
    "\n",
    "if __name__ == \"__main__\":\n",
    "    main()"
   ]
  },
  {
   "cell_type": "markdown",
   "metadata": {},
   "source": [
    "As before, we will make the script executable:"
   ]
  },
  {
   "cell_type": "code",
   "execution_count": 76,
   "metadata": {},
   "outputs": [],
   "source": [
    "!chmod u+x vector_to_raster.py"
   ]
  },
  {
   "cell_type": "markdown",
   "metadata": {},
   "source": [
    "Running the script with `--help` gives its interface described for command line use:"
   ]
  },
  {
   "cell_type": "code",
   "execution_count": 78,
   "metadata": {},
   "outputs": [
    {
     "name": "stdout",
     "output_type": "stream",
     "text": [
      "Starting GRASS GIS...\n",
      "Cleaning up temporary files...\n",
      "Executing <./vector_to_raster.py elevation=elevation points=firestations input=elevation,ndvi output=data.txt format=csv --o> ...\n",
      "Computing events...\n",
      "   0   3   6   9  12  15  18  21  24  27  30  33  36  39  42  45  48  51  54  57  60  63  66  69  72  75  78  81  84  87  90  93  96  99 100\n",
      "Computing visibility...\n",
      "   0   2   4   6   8  10  12  14  16  18  20  22  24  26  28  30  32  34  36  38  40  42  44  46  48  50  52  54  56  58  60  62  64  66  68  70  72  74  76  78  80  82  84  86  88  90  92  94  96  98 100\n",
      "Writing output raster map...\n",
      "   0   6  12  18  24  30  36  42  48  54  60  66  72  78  84  90  96 100\n",
      "   0   2   4   6   8  10  12  14  16  18  20  22  24  26  28  30  32  34  36  38  40  42  44  46  48  50  52  54  56  58  60  62  64  66  68  70  72  74  76  78  80  82  84  86  88  90  92  94  96  98 100\n",
      "Computing events...\n",
      "   0   3   6   9  12  15  18  21  24  27  30  33  36  39  42  45  48  51  54  57  60  63  66  69  72  75  78  81  84  87  90  93  96  99 100\n",
      "Computing visibility...\n",
      "   0   2   4   6   8  10  12  14  16  18  20  22  24  26  28  30  32  34  36  38  40  42  44  46  48  50  52  54  56  58  60  62  64  66  68  70  72  74  76  78  80  82  84  86  88  90  92  94  96  98 100\n",
      "Writing output raster map...\n",
      "   0   6  12  18  24  30  36  42  48  54  60  66  72  78  84  90  96 100\n",
      "   0   2   4   6   8  10  12  14  16  18  20  22  24  26  28  30  32  34  36  38  40  42  44  46  48  50  52  54  56  58  60  62  64  66  68  70  72  74  76  78  80  82  84  86  88  90  92  94  96  98 100\n",
      "Computing events...\n",
      "   0   3   6   9  12  15  18  21  24  27  30  33  36  39  42  45  48  51  54  57  60  63  66  69  72  75  78  81  84  87  90  93  96  99 100\n",
      "Computing visibility...\n",
      "   0   2   4   6   8  10  12  14  16  18  20  22  24  26  28  30  32  34  36  38  40  42  44  46  48  50  52  54  56  58  60  62  64  66  68  70  72  74  76  78  80  82  84  86  88  90  92  94  96  98 100\n",
      "Writing output raster map...\n",
      "   0   6  12  18  24  30  36  42  48  54  60  66  72  78  84  90  96 100\n",
      "   0   2   4   6   8  10  12  14  16  18  20  22  24  26  28  30  32  34  36  38  40  42  44  46  48  50  52  54  56  58  60  62  64  66  68  70  72  74  76  78  80  82  84  86  88  90  92  94  96  98 100\n",
      "Removing raster <tmp_viewshed_lemur_3373401>\n",
      "WARNING: No data base element files found\n",
      "\u0007WARNING: No data base element files found\n",
      "\u0007Execution of <./vector_to_raster.py elevation=elevation points=firestations input=elevation,ndvi output=data.txt format=csv --o> finished.\n",
      "Cleaning up temporary files...\n",
      "name,min,max,range,mean,mean_of_abs,stddev,variance,coeff_var,sum,sum_abs\n",
      "elevation,84.0856094360352,122.203666687012,38.1180572509766,102.498166055346,102.498166055346,7.36508116425039,54.2444205559959,7.18557360360328,533605.452484131,533605.452484131\n",
      "ndvi,-0.280487805604935,0.513513505458832,0.794001311063766,0.111714556552055,0.232204772051835,0.248977074587965,0.0619895836703813,222.868963788037,581.585981409997,1208.85804330185\n"
     ]
    }
   ],
   "source": [
    "!grass ~/grassdata/nc_spm_08_grass7/foss4g --exec ./vector_to_raster.py elevation=elevation points=firestations input=elevation,ndvi output=\"data.txt\" format=\"csv\" --o\n",
    "!cat data.txt"
   ]
  },
  {
   "cell_type": "code",
   "execution_count": 3,
   "metadata": {},
   "outputs": [
    {
     "name": "stdout",
     "output_type": "stream",
     "text": [
      "Starting GRASS GIS...\n",
      "Cleaning up temporary files...\n",
      "Executing <i.vi red=lsat7_2002_30 nir=lsat7_2002_40 viname=ndvi output=ndvi> ...\n",
      "   0   3   6   9  12  15  18  21  24  27  30  33  36  39  42  45  48  51  54  57  60  63  66  69  72  75  78  81  84  87  90  93  96  99 100\n",
      "Execution of <i.vi red=lsat7_2002_30 nir=lsat7_2002_40 viname=ndvi output=ndvi> finished.\n",
      "Cleaning up temporary files...\n"
     ]
    }
   ],
   "source": [
    "!grass ~/grassdata/nc_spm_08_grass7/foss4g --exec i.vi red=lsat7_2002_30 nir=lsat7_2002_40 viname=ndvi output=ndvi"
   ]
  },
  {
   "cell_type": "markdown",
   "metadata": {},
   "source": [
    "Running the script with `--html-description` gives the command line interface described in HTML which later becomes a part of the tool's HTML documentation:"
   ]
  },
  {
   "cell_type": "code",
   "execution_count": 51,
   "metadata": {},
   "outputs": [
    {
     "name": "stdout",
     "output_type": "stream",
     "text": [
      "Starting GRASS GIS...\n",
      "Cleaning up temporary files...\n",
      "Executing <r.univar map=elevation zones=viewshed -t separator=comma> ...\n",
      "   0   3   6   9  12  15  18  21  24  27  30  33  36  39  42  45  48  51  54  57  60  63  66  69  72  75  78  81  84  87  90  93  96  99 100\n",
      "zone,label,non_null_cells,null_cells,min,max,range,mean,mean_of_abs,stddev,variance,coeff_var,sum,sum_abs\n",
      "1,,121,0,65.0054626464844,152.262680053711,87.2572174072266,115.819097786895,115.819097786895,20.486681456427,419.704117097109,17.6885175656626,14014.1108322144,14014.1108322144\n",
      "Execution of <r.univar map=elevation zones=viewshed -t separator=comma> finished.\n",
      "Cleaning up temporary files...\n"
     ]
    }
   ],
   "source": [
    "!grass ~/grassdata/nc_spm_grass7/foss4g --exec r.univar map=elevation zones=viewshed -t separator=comma"
   ]
  },
  {
   "cell_type": "markdown",
   "metadata": {},
   "source": [
    "# Points\n"
   ]
  },
  {
   "cell_type": "code",
   "execution_count": 66,
   "metadata": {},
   "outputs": [
    {
     "name": "stdout",
     "output_type": "stream",
     "text": [
      "Starting GRASS GIS...\n",
      "Cleaning up temporary files...\n",
      "Executing <g.region raster=elevation> ...\n",
      "Execution of <g.region raster=elevation> finished.\n",
      "Cleaning up temporary files...\n",
      "Starting GRASS GIS...\n",
      "Cleaning up temporary files...\n",
      "Executing <v.out.ascii input=firestations type=point format=point separator=comma -c -r> ...\n",
      "east,north,cat\n",
      "630420.50034711,215694.02807559,9\n",
      "630879.21198056,224876.55413017,12\n",
      "635775.56533925,228121.69258378,19\n",
      "635940.26230542,225912.79645818,20\n",
      "637386.83129147,222569.15159736,21\n",
      "641437.43097947,221737.70843723,22\n",
      "644588.46729229,217450.61375119,23\n",
      "644598.62057612,221014.97865205,24\n",
      "642868.29195637,225195.28915104,25\n",
      "640173.91152612,226162.37987726,26\n",
      "640711.47282426,228461.46577181,27\n",
      "644601.8806259,226660.12097034,28\n",
      "633178.15477,221353.03723179,52\n",
      "641803.17360861,224986.14236578,56\n",
      "642559.95242121,215531.80353493,57\n",
      "Execution of <v.out.ascii input=firestations type=point format=point separator=comma -c -r> finished.\n",
      "Cleaning up temporary files...\n"
     ]
    }
   ],
   "source": [
    "!grass ~/grassdata/nc_spm_08_grass7/foss4g --exec g.region raster=elevation\n",
    "!grass ~/grassdata/nc_spm_08_grass7/foss4g --exec v.out.ascii input=firestations type=\"point\" format=\"point\" separator=\"comma\" -c -r"
   ]
  },
  {
   "cell_type": "code",
   "execution_count": null,
   "metadata": {},
   "outputs": [],
   "source": []
  }
 ],
 "metadata": {
  "kernelspec": {
   "display_name": "Python 3",
   "language": "python",
   "name": "python3"
  },
  "language_info": {
   "codemirror_mode": {
    "name": "ipython",
    "version": 3
   },
   "file_extension": ".py",
   "mimetype": "text/x-python",
   "name": "python",
   "nbconvert_exporter": "python",
   "pygments_lexer": "ipython3",
   "version": "3.8.10"
  }
 },
 "nbformat": 4,
 "nbformat_minor": 4
}
